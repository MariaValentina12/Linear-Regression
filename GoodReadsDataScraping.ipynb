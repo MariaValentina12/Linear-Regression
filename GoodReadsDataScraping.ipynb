{
 "cells": [
  {
   "cell_type": "markdown",
   "metadata": {},
   "source": [
    "## GoodReads Scraping using Selenium"
   ]
  },
  {
   "cell_type": "markdown",
   "metadata": {},
   "source": [
    "The script fetches the details from GoodReads using the titles of books already present in the books dataset obtianed from Kaggle. The details that are fetched are, Primary Genre, Secondary Genre, Awards, Series, Followers for Author on GoodReads, No of books of the author and author's primary genre. Selenium is a testing tool that interacts with the browser. The driver essentially doe the following actions.\n",
    "1. Launch Chrome Browser\n",
    "2. Open GoodReads Link\n",
    "3. Sign in with user creds\n",
    "4. Enter the book title from the dataset\n",
    "5. Search for the book\n",
    "6. Scrapes data from the book page"
   ]
  },
  {
   "cell_type": "code",
   "execution_count": null,
   "metadata": {},
   "outputs": [],
   "source": [
    "#Import Libraries\n",
    "from selenium import webdriver \n",
    "from selenium.webdriver.common.keys import Keys\n",
    "import pandas as pd\n",
    "from selenium.common.exceptions import NoSuchElementException\n",
    "import time"
   ]
  },
  {
   "cell_type": "code",
   "execution_count": null,
   "metadata": {},
   "outputs": [],
   "source": [
    "#Read the data from the csv files. Change the path here\n",
    "Books=pd.read_csv('C:/Users/Tina/Desktop/STT/books.csv',error_bad_lines=False)\n",
    "#Books=pd.read_csv('C:/Users/Tina/Desktop/STT/Project/Data/Clean_books_with_missing_authors.csv',error_bad_lines=False)"
   ]
  },
  {
   "cell_type": "code",
   "execution_count": null,
   "metadata": {},
   "outputs": [],
   "source": [
    "#Change the rows to the ones you plan to fetch\n",
    "Books=Books.iloc[7001:8001,:]\n",
    "Books.shape"
   ]
  },
  {
   "cell_type": "code",
   "execution_count": null,
   "metadata": {},
   "outputs": [],
   "source": [
    "#Adding other columns\n",
    "Books['Primary Genre']=None\n",
    "Books['Secondary Genre']=None\n",
    "Books['Awards']=0\n",
    "Books['Series']='No'\n",
    "Books['Auth_followers']=0\n",
    "Books['Auth_books']=0\n",
    "Books['Auth_Genre']=None\n",
    "#This List is to reduce search time, if an author infor is already fetched\n",
    "Author=[]\n",
    "Books.head()"
   ]
  },
  {
   "cell_type": "code",
   "execution_count": null,
   "metadata": {},
   "outputs": [],
   "source": [
    "#initiating driver and lauching the required page\n",
    "driver = webdriver.Chrome(executable_path='C:/Users/Tina/Desktop/STT/chromedriver.exe')\n",
    "#Launch the required link\n",
    "driver.get(\"https://www.goodreads.com/\")\n",
    "# This is for the driver to implicity wait until it finds the element. That way, loading time is covered. If your netwrok is too slow, you may increase this.\n",
    "driver.implicitly_wait(15)\n",
    "\n",
    "#After this, login manually or run the script below with your creds\n",
    "#In subsequent blocks, if you face NoSuchWindowException or WebDriverException run this and the cell below"
   ]
  },
  {
   "cell_type": "code",
   "execution_count": null,
   "metadata": {},
   "outputs": [],
   "source": [
    "#LOGIN\n",
    "#Enter your id here\n",
    "driver.find_element_by_id('userSignInFormEmail').send_keys('id')\n",
    "# ENter your pwd here\n",
    "driver.find_element_by_id('user_password').send_keys('password')\n",
    "driver.find_element_by_xpath(\"(//input[contains(@type,'submit')])[1]\").click()"
   ]
  },
  {
   "cell_type": "code",
   "execution_count": null,
   "metadata": {},
   "outputs": [],
   "source": [
    "\n",
    "for i in range (7887,8001):\n",
    "    print(i)\n",
    "    title=Books['title'][i]\n",
    "    # navigate to the book page\n",
    "    search_bar=driver.find_element_by_xpath(\"//input[contains(@class,'searchBox__input searchBox__input--navbar')]\")\n",
    "    search_bar.clear()\n",
    "    search_bar.send_keys(title,Keys.ENTER)\n",
    "    time.sleep(3)\n",
    "    #First search by title \n",
    "    try:\n",
    "        driver.find_element_by_xpath(\"(//span[contains(text(),'\"+title+\"')])[1]\").click()\n",
    "    #In case title is different in csv, click on the first link    \n",
    "    except NoSuchElementException as e:\n",
    "        try:\n",
    "            driver.find_element_by_xpath(\"(//span[contains(@itemprop,'name')])[1]\").click()\n",
    "        except NoSuchElementException as e:\n",
    "            next\n",
    "    \n",
    "    #Now get data from the Book Page\n",
    "    try:\n",
    "        #Get the genre, primary genre will definitely be present in the page. The try catch block is to handle secondary Genre\n",
    "        Books['Primary Genre'][i]=driver.find_element_by_xpath(\"(//a[contains(@class,'actionLinkLite bookPageGenreLink')])[1]\").text\n",
    "        Books['Secondary Genre'][i]=driver.find_element_by_xpath(\"(//a[contains(@class,'actionLinkLite bookPageGenreLink')])[2]\").text\n",
    "    except NoSuchElementException as e:\n",
    "        None\n",
    "    \n",
    "    try:\n",
    "        # Get the number of awards\n",
    "        Books['Awards'][i]=len(driver.find_elements_by_xpath(\"//a[contains(@class,'award')]\" ))\n",
    "    except NoSuchElementException as e:\n",
    "        None\n",
    "    \n",
    "    try:\n",
    "        #If this Xpath exists, then the book is part of a series\n",
    "        driver.find_element_by_xpath(\"//div[@class='infoBoxRowTitle' and contains(text(),'Series')]\" )\n",
    "        Books['Series'][i]='Yes'\n",
    "    except NoSuchElementException as e:\n",
    "        None\n",
    "        \n",
    "    #Now let us move to the author page\n",
    "    #Do not search info about the author if you already have it\n",
    "    author=driver.find_element_by_xpath(\"//a[@class='authorName']\").text\n",
    "    \n",
    "    if author not in Author:\n",
    "        driver.find_element_by_xpath(\"//a[@class='authorName']\").click()\n",
    "        # for now the number of followers is in String format\n",
    "        try:\n",
    "            Books['Auth_followers'][i]=driver.find_element_by_xpath(\"(//a[contains(@href,'/author_followings')])[1]\").text\n",
    "        except NoSuchElementException as e:\n",
    "            None   \n",
    "            \n",
    "        try:\n",
    "            Books['Auth_books'][i]=driver.find_element_by_xpath(\"//a[contains(text(),'distinct works')]\").text\n",
    "        except NoSuchElementException as e:\n",
    "            None \n",
    "            \n",
    "        try:\n",
    "            j = len(driver.find_elements_by_xpath(\"//a[contains(@href,'/genres/')]\"))\n",
    "            genre=[]\n",
    "            for j in range(1,j+1):\n",
    "                genre.append((driver.find_element_by_xpath(\"(//a[contains(@href,'/genres/')])[\"+str(j)+\"]\")).text)\n",
    "            Books['Auth_Genre'][i]=genre\n",
    "        except NoSuchElementException as e:\n",
    "            None\n",
    "        \n",
    "        #Append author to the Author List. Will fill values for all the rows for author in data cleaning and prep phase\n",
    "        Author.append(author)"
   ]
  },
  {
   "cell_type": "code",
   "execution_count": null,
   "metadata": {},
   "outputs": [],
   "source": [
    "# Save as a CSV file \n",
    "Books.to_csv(\"Books_7000_8000.csv\")"
   ]
  },
  {
   "cell_type": "markdown",
   "metadata": {},
   "source": [
    "## Cleaning the data"
   ]
  },
  {
   "cell_type": "markdown",
   "metadata": {},
   "source": [
    "This section does the following\n",
    "1. Handle missing values for primary and secondary genre from author's genre\n",
    "2. Data type transformation from string to number for certain columns\n",
    "3. Hanle missing author information"
   ]
  },
  {
   "cell_type": "code",
   "execution_count": null,
   "metadata": {},
   "outputs": [],
   "source": [
    "Books=pd.read_csv('C:/Users/Tina/Desktop/STT/Project/Data/book_total.csv',error_bad_lines=False)"
   ]
  },
  {
   "cell_type": "code",
   "execution_count": null,
   "metadata": {},
   "outputs": [],
   "source": [
    "#drop unncessary column\n",
    "Books=Books.drop(['Unnamed: 0'], axis=1)"
   ]
  },
  {
   "cell_type": "code",
   "execution_count": null,
   "metadata": {},
   "outputs": [],
   "source": [
    "Books.columns"
   ]
  },
  {
   "cell_type": "code",
   "execution_count": null,
   "metadata": {},
   "outputs": [],
   "source": [
    "Books.head()"
   ]
  },
  {
   "cell_type": "code",
   "execution_count": null,
   "metadata": {},
   "outputs": [],
   "source": [
    "Books.shape"
   ]
  },
  {
   "cell_type": "code",
   "execution_count": null,
   "metadata": {},
   "outputs": [],
   "source": [
    "import math\n",
    "Author={}\n",
    "for i in range (0,Books.shape[0]):\n",
    "    name=Books['authors'][i]\n",
    "    if name in Author.keys():\n",
    "        Books['Auth_followers'][i]=Author[name][0]\n",
    "        Books['Auth_books'][i]=Author[name][1]\n",
    "        Books['Auth_Genre'][i]=Author[name][2]\n",
    "    else:\n",
    "        # Search any row where a value is recorded for any of the 3 author related columns\n",
    "        Author_books=Books[Books['authors']==name]\n",
    "        range_new=np.arange(Author_books.shape[0])\n",
    "        Author_books=Author_books.set_index(range_new)\n",
    "        for j in range (0,Author_books.shape[0]):\n",
    "            if Author_books['Auth_followers'][j] !=0 or Author_books['Auth_books'][j] !=0 or type (Author_books['Auth_Genre'][j]) == str:\n",
    "                auth_list=[]\n",
    "                auth_list.append(Author_books['Auth_followers'][j])\n",
    "                auth_list.append(Author_books['Auth_books'][j])\n",
    "                auth_list.append(Author_books['Auth_Genre'][j])\n",
    "                Author[name]=auth_list\n",
    "\n",
    "for i in range (0,Books.shape[0]):\n",
    "    name=Books['authors'][i]\n",
    "    if type (Books['Auth_Genre'][i]) != str:\n",
    "        if name in Author.keys():\n",
    "            Books['Auth_followers'][i]=Author[name][0]\n",
    "            Books['Auth_books'][i]=Author[name][1]\n",
    "            Books['Auth_Genre'][i]=Author[name][2]                 \n",
    "    "
   ]
  },
  {
   "cell_type": "code",
   "execution_count": null,
   "metadata": {},
   "outputs": [],
   "source": [
    "#If Primary genre was missing\n",
    "for i in range (0,Books.shape[0]):\n",
    "    if type(Books['Primary.Genre'][i]) !=str and type(Books['Auth_Genre'][i]) == str:\n",
    "        genre=((Books['Auth_Genre'][i].split(',')[0].replace(\"\\\"\",\"\")).replace('[',\"\").replace(']',\"\").split(' ')[0].replace(\"\\'\",\"\"))\n",
    "        Books['Primary.Genre'][i]=genre"
   ]
  },
  {
   "cell_type": "code",
   "execution_count": null,
   "metadata": {},
   "outputs": [],
   "source": [
    "#If secondary was missing\n",
    "for i in range (0,Books.shape[0]):\n",
    "    if type(Books['Secondary.Genre'][i]) !=str and type(Books['Auth_Genre'][i]) == str:\n",
    "        if len(Books['Auth_Genre'][i].split(','))>1:\n",
    "            genre=((Books['Auth_Genre'][i].split(',')[1].replace(\"\\\"\",\"\")).replace('[',\"\").replace(']',\"\").split(' ')[0].replace(\"\\'\",\"\"))\n",
    "            Books['Secondary.Genre'][i]=genre"
   ]
  },
  {
   "cell_type": "code",
   "execution_count": null,
   "metadata": {},
   "outputs": [],
   "source": [
    "import re\n",
    "# Convert followers and auth_books to numbers\n",
    "for i in range (0,Books.shape[0]):\n",
    "    if (type(Books['Auth_followers'][i])==str):\n",
    "        Books['Auth_followers'][i]=re.sub(\"[^0-9]\", \"\",  Books['Auth_followers'][i])\n",
    "    if (type(Books['Auth_books'][i])==str):\n",
    "        Books['Auth_books'][i]=re.sub(\"[^0-9]\", \"\",  Books['Auth_books'][i])"
   ]
  },
  {
   "cell_type": "code",
   "execution_count": null,
   "metadata": {},
   "outputs": [],
   "source": [
    "Books.to_csv(\"Clean_books.csv\")"
   ]
  }
 ],
 "metadata": {
  "kernelspec": {
   "display_name": "Python 3",
   "language": "python",
   "name": "python3"
  },
  "language_info": {
   "codemirror_mode": {
    "name": "ipython",
    "version": 3
   },
   "file_extension": ".py",
   "mimetype": "text/x-python",
   "name": "python",
   "nbconvert_exporter": "python",
   "pygments_lexer": "ipython3",
   "version": "3.7.4"
  }
 },
 "nbformat": 4,
 "nbformat_minor": 2
}
